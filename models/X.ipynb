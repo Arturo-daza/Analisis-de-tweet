{
  "cells": [
    {
      "cell_type": "code",
      "execution_count": 1,
      "metadata": {
        "id": "6uQdYfefG3qz"
      },
      "outputs": [],
      "source": [
        "import pandas as pd\n",
        "import numpy as np\n",
        "import matplotlib.pyplot as plt\n",
        "import seaborn as sns\n",
        "import re\n",
        "from nltk.tokenize import word_tokenize\n",
        "from nltk.stem import WordNetLemmatizer\n",
        "from nltk.corpus import stopwords\n",
        "import nltk\n",
        "from sklearn.model_selection import train_test_split\n",
        "from sklearn.feature_extraction.text import CountVectorizer\n",
        "from sklearn.naive_bayes import MultinomialNB\n",
        "from sklearn.metrics import classification_report,accuracy_score\n",
        "from sklearn.ensemble import RandomForestClassifier\n",
        "from sklearn import metrics\n",
        "import string\n",
        "from nltk.stem import LancasterStemmer"
      ]
    },
    {
      "cell_type": "code",
      "execution_count": 2,
      "metadata": {
        "colab": {
          "base_uri": "https://localhost:8080/"
        },
        "id": "jYsS6hQ8TBKO",
        "outputId": "8227206e-04ec-4e46-e4ba-085c22a5fc8e"
      },
      "outputs": [
        {
          "name": "stderr",
          "output_type": "stream",
          "text": [
            "[nltk_data] Downloading package punkt to\n",
            "[nltk_data]     C:\\Users\\dazad\\AppData\\Roaming\\nltk_data...\n",
            "[nltk_data]   Unzipping tokenizers\\punkt.zip.\n",
            "[nltk_data] Downloading package stopwords to\n",
            "[nltk_data]     C:\\Users\\dazad\\AppData\\Roaming\\nltk_data...\n",
            "[nltk_data]   Unzipping corpora\\stopwords.zip.\n",
            "[nltk_data] Downloading package wordnet to\n",
            "[nltk_data]     C:\\Users\\dazad\\AppData\\Roaming\\nltk_data...\n"
          ]
        },
        {
          "data": {
            "text/plain": [
              "True"
            ]
          },
          "execution_count": 2,
          "metadata": {},
          "output_type": "execute_result"
        }
      ],
      "source": [
        "nltk.download('punkt')\n",
        "nltk.download('stopwords')\n",
        "nltk.download('wordnet')"
      ]
    },
    {
      "cell_type": "code",
      "execution_count": 7,
      "metadata": {
        "id": "Sl2hFNXMe-ik"
      },
      "outputs": [],
      "source": [
        "df = pd.read_csv(\"tweets.csv\", delimiter=',' ,header = None ,engine='python')"
      ]
    },
    {
      "cell_type": "code",
      "execution_count": 8,
      "metadata": {
        "colab": {
          "base_uri": "https://localhost:8080/",
          "height": 423
        },
        "id": "1M5g6l6LfNQv",
        "outputId": "23863f3c-95b0-4372-e65a-d7b201c66a03"
      },
      "outputs": [
        {
          "data": {
            "text/html": [
              "<div>\n",
              "<style scoped>\n",
              "    .dataframe tbody tr th:only-of-type {\n",
              "        vertical-align: middle;\n",
              "    }\n",
              "\n",
              "    .dataframe tbody tr th {\n",
              "        vertical-align: top;\n",
              "    }\n",
              "\n",
              "    .dataframe thead th {\n",
              "        text-align: right;\n",
              "    }\n",
              "</style>\n",
              "<table border=\"1\" class=\"dataframe\">\n",
              "  <thead>\n",
              "    <tr style=\"text-align: right;\">\n",
              "      <th></th>\n",
              "      <th>0</th>\n",
              "      <th>1</th>\n",
              "      <th>2</th>\n",
              "    </tr>\n",
              "  </thead>\n",
              "  <tbody>\n",
              "    <tr>\n",
              "      <th>0</th>\n",
              "      <td>id</td>\n",
              "      <td>author</td>\n",
              "      <td>status</td>\n",
              "    </tr>\n",
              "    <tr>\n",
              "      <th>1</th>\n",
              "      <td>1</td>\n",
              "      <td>Donald J. Trump</td>\n",
              "      <td>I will be making a major statement from the @W...</td>\n",
              "    </tr>\n",
              "    <tr>\n",
              "      <th>2</th>\n",
              "      <td>2</td>\n",
              "      <td>Donald J. Trump</td>\n",
              "      <td>Just arrived at #ASEAN50 in the Philippines fo...</td>\n",
              "    </tr>\n",
              "    <tr>\n",
              "      <th>3</th>\n",
              "      <td>3</td>\n",
              "      <td>Donald J. Trump</td>\n",
              "      <td>After my tour of Asia, all Countries dealing w...</td>\n",
              "    </tr>\n",
              "    <tr>\n",
              "      <th>4</th>\n",
              "      <td>4</td>\n",
              "      <td>Donald J. Trump</td>\n",
              "      <td>Great to see @RandPaul looking well and back o...</td>\n",
              "    </tr>\n",
              "    <tr>\n",
              "      <th>...</th>\n",
              "      <td>...</td>\n",
              "      <td>...</td>\n",
              "      <td>...</td>\n",
              "    </tr>\n",
              "    <tr>\n",
              "      <th>396</th>\n",
              "      <td>396</td>\n",
              "      <td>Justin Trudeau</td>\n",
              "      <td>RT @googlecanada: Watch tmw: @JustinTrudeau di...</td>\n",
              "    </tr>\n",
              "    <tr>\n",
              "      <th>397</th>\n",
              "      <td>397</td>\n",
              "      <td>Justin Trudeau</td>\n",
              "      <td>Today in Ottawa, I met with the Modern Treaty ...</td>\n",
              "    </tr>\n",
              "    <tr>\n",
              "      <th>398</th>\n",
              "      <td>398</td>\n",
              "      <td>Justin Trudeau</td>\n",
              "      <td>Voici le sommaire de ma rencontre avec les Pre...</td>\n",
              "    </tr>\n",
              "    <tr>\n",
              "      <th>399</th>\n",
              "      <td>399</td>\n",
              "      <td>Justin Trudeau</td>\n",
              "      <td>RT @VeteransENG_CA: #Day1 of 11 Days of Rememb...</td>\n",
              "    </tr>\n",
              "    <tr>\n",
              "      <th>400</th>\n",
              "      <td>400</td>\n",
              "      <td>Justin Trudeau</td>\n",
              "      <td>RT @VeteransFR_CA: #Jour1 des 11 jours pour se...</td>\n",
              "    </tr>\n",
              "  </tbody>\n",
              "</table>\n",
              "<p>401 rows × 3 columns</p>\n",
              "</div>"
            ],
            "text/plain": [
              "       0                1                                                  2\n",
              "0     id           author                                             status\n",
              "1      1  Donald J. Trump  I will be making a major statement from the @W...\n",
              "2      2  Donald J. Trump  Just arrived at #ASEAN50 in the Philippines fo...\n",
              "3      3  Donald J. Trump  After my tour of Asia, all Countries dealing w...\n",
              "4      4  Donald J. Trump  Great to see @RandPaul looking well and back o...\n",
              "..   ...              ...                                                ...\n",
              "396  396   Justin Trudeau  RT @googlecanada: Watch tmw: @JustinTrudeau di...\n",
              "397  397   Justin Trudeau  Today in Ottawa, I met with the Modern Treaty ...\n",
              "398  398   Justin Trudeau  Voici le sommaire de ma rencontre avec les Pre...\n",
              "399  399   Justin Trudeau  RT @VeteransENG_CA: #Day1 of 11 Days of Rememb...\n",
              "400  400   Justin Trudeau  RT @VeteransFR_CA: #Jour1 des 11 jours pour se...\n",
              "\n",
              "[401 rows x 3 columns]"
            ]
          },
          "execution_count": 8,
          "metadata": {},
          "output_type": "execute_result"
        }
      ],
      "source": [
        "df"
      ]
    },
    {
      "cell_type": "code",
      "execution_count": 9,
      "metadata": {
        "colab": {
          "base_uri": "https://localhost:8080/",
          "height": 206
        },
        "id": "Bp6c-90JfWec",
        "outputId": "0c7ca008-e2f0-48ef-cfe2-a389c49a0a54"
      },
      "outputs": [
        {
          "data": {
            "text/html": [
              "<div>\n",
              "<style scoped>\n",
              "    .dataframe tbody tr th:only-of-type {\n",
              "        vertical-align: middle;\n",
              "    }\n",
              "\n",
              "    .dataframe tbody tr th {\n",
              "        vertical-align: top;\n",
              "    }\n",
              "\n",
              "    .dataframe thead th {\n",
              "        text-align: right;\n",
              "    }\n",
              "</style>\n",
              "<table border=\"1\" class=\"dataframe\">\n",
              "  <thead>\n",
              "    <tr style=\"text-align: right;\">\n",
              "      <th></th>\n",
              "      <th>id</th>\n",
              "      <th>Autor</th>\n",
              "      <th>Estado</th>\n",
              "    </tr>\n",
              "  </thead>\n",
              "  <tbody>\n",
              "    <tr>\n",
              "      <th>1</th>\n",
              "      <td>1</td>\n",
              "      <td>Donald J. Trump</td>\n",
              "      <td>I will be making a major statement from the @W...</td>\n",
              "    </tr>\n",
              "    <tr>\n",
              "      <th>2</th>\n",
              "      <td>2</td>\n",
              "      <td>Donald J. Trump</td>\n",
              "      <td>Just arrived at #ASEAN50 in the Philippines fo...</td>\n",
              "    </tr>\n",
              "    <tr>\n",
              "      <th>3</th>\n",
              "      <td>3</td>\n",
              "      <td>Donald J. Trump</td>\n",
              "      <td>After my tour of Asia, all Countries dealing w...</td>\n",
              "    </tr>\n",
              "    <tr>\n",
              "      <th>4</th>\n",
              "      <td>4</td>\n",
              "      <td>Donald J. Trump</td>\n",
              "      <td>Great to see @RandPaul looking well and back o...</td>\n",
              "    </tr>\n",
              "    <tr>\n",
              "      <th>5</th>\n",
              "      <td>5</td>\n",
              "      <td>Donald J. Trump</td>\n",
              "      <td>Excited to be heading home to see the House pa...</td>\n",
              "    </tr>\n",
              "  </tbody>\n",
              "</table>\n",
              "</div>"
            ],
            "text/plain": [
              "  id            Autor                                             Estado\n",
              "1  1  Donald J. Trump  I will be making a major statement from the @W...\n",
              "2  2  Donald J. Trump  Just arrived at #ASEAN50 in the Philippines fo...\n",
              "3  3  Donald J. Trump  After my tour of Asia, all Countries dealing w...\n",
              "4  4  Donald J. Trump  Great to see @RandPaul looking well and back o...\n",
              "5  5  Donald J. Trump  Excited to be heading home to see the House pa..."
            ]
          },
          "execution_count": 9,
          "metadata": {},
          "output_type": "execute_result"
        }
      ],
      "source": [
        "df.columns = [\"id\" ,\"Autor\",\"Estado\"]\n",
        "df = df.drop(0)\n",
        "df.head()"
      ]
    },
    {
      "cell_type": "code",
      "execution_count": 10,
      "metadata": {
        "colab": {
          "base_uri": "https://localhost:8080/"
        },
        "id": "oiE0BSLIfN2b",
        "outputId": "0adac78f-b040-417b-d127-559d975e6b86"
      },
      "outputs": [
        {
          "data": {
            "text/plain": [
              "0"
            ]
          },
          "execution_count": 10,
          "metadata": {},
          "output_type": "execute_result"
        }
      ],
      "source": [
        "df.duplicated().sum()"
      ]
    },
    {
      "cell_type": "code",
      "execution_count": 11,
      "metadata": {
        "id": "HZ_frHagbBhR"
      },
      "outputs": [],
      "source": [
        "df.drop_duplicates(inplace = True)"
      ]
    },
    {
      "cell_type": "code",
      "execution_count": 13,
      "metadata": {
        "colab": {
          "base_uri": "https://localhost:8080/"
        },
        "id": "wCXhnIAobEpX",
        "outputId": "5bc18477-57da-4572-bf53-490762246a27"
      },
      "outputs": [
        {
          "data": {
            "text/plain": [
              "id        0\n",
              "Autor     0\n",
              "Estado    0\n",
              "dtype: int64"
            ]
          },
          "execution_count": 13,
          "metadata": {},
          "output_type": "execute_result"
        }
      ],
      "source": [
        "df.isna().sum()"
      ]
    },
    {
      "cell_type": "code",
      "execution_count": 14,
      "metadata": {
        "id": "Oy1pfXBAbLiU"
      },
      "outputs": [],
      "source": [
        "## Función para el procesamiento de datos\n",
        "stopword = set(stopwords.words('english'))\n",
        "stemmer = LancasterStemmer()\n",
        "def preprocessing(text):\n",
        "    # print(text)\n",
        "    try:\n",
        "      # Convert text to lowercase\n",
        "      text = text.lower()\n",
        "      text = re.sub('-',' ',text)   # replace `word-word` as `word word`\n",
        "      text = re.sub(f'[{string.digits}]',' ',text)  # remove digits\n",
        "      text = ' '.join([stemmer.stem(word) for word in text.split() if word not in stopword])  # remove stopwords and stem other words\n",
        "      text =  re.sub(r'@\\S+', '',text)                     # remove twitter handles\n",
        "      text =  re.sub(r'http\\S+', '',text)                  # remove urls\n",
        "      text =  re.sub(r'pic.\\S+', '',text)\n",
        "      text =  re.sub(r\"[^a-zA-Z+']\", ' ',text)             # only keeps characters\n",
        "      text = re.sub(r'\\s+[a-zA-Z]\\s+', ' ', text+' ')      # keep words with length>1 only\n",
        "      text = ''.join([i for i in text if i not in string.punctuation])\n",
        "      words = nltk.tokenize.word_tokenize(text,language=\"english\", preserve_line=True)\n",
        "      text = \" \".join([i for i in words if i not in stopword and len(i)>2])\n",
        "      text= re.sub(\"\\s[\\s]+\", \" \",text).strip()            # remove repeated/leading/trailing spaces\n",
        "    except:\n",
        "      print('Error:')\n",
        "      print(text)\n",
        "\n",
        "    return re.sub(f'[{re.escape(string.punctuation)}]','',text) # remove punctuations"
      ]
    },
    {
      "cell_type": "code",
      "execution_count": 15,
      "metadata": {
        "id": "IED-1h9_bM3a"
      },
      "outputs": [],
      "source": [
        "df[\"Estado_clean\"] =  df[\"Estado\"].apply(preprocessing)"
      ]
    },
    {
      "cell_type": "code",
      "execution_count": 16,
      "metadata": {
        "colab": {
          "base_uri": "https://localhost:8080/",
          "height": 206
        },
        "id": "DN-r52UGba1K",
        "outputId": "fd3d0b85-42e2-473e-b62b-cf6202c401f3"
      },
      "outputs": [
        {
          "data": {
            "text/html": [
              "<div>\n",
              "<style scoped>\n",
              "    .dataframe tbody tr th:only-of-type {\n",
              "        vertical-align: middle;\n",
              "    }\n",
              "\n",
              "    .dataframe tbody tr th {\n",
              "        vertical-align: top;\n",
              "    }\n",
              "\n",
              "    .dataframe thead th {\n",
              "        text-align: right;\n",
              "    }\n",
              "</style>\n",
              "<table border=\"1\" class=\"dataframe\">\n",
              "  <thead>\n",
              "    <tr style=\"text-align: right;\">\n",
              "      <th></th>\n",
              "      <th>id</th>\n",
              "      <th>Autor</th>\n",
              "      <th>Estado</th>\n",
              "      <th>Estado_clean</th>\n",
              "    </tr>\n",
              "  </thead>\n",
              "  <tbody>\n",
              "    <tr>\n",
              "      <th>1</th>\n",
              "      <td>1</td>\n",
              "      <td>Donald J. Trump</td>\n",
              "      <td>I will be making a major statement from the @W...</td>\n",
              "      <td>mak maj stat upon return tim dat set</td>\n",
              "    </tr>\n",
              "    <tr>\n",
              "      <th>2</th>\n",
              "      <td>2</td>\n",
              "      <td>Donald J. Trump</td>\n",
              "      <td>Just arrived at #ASEAN50 in the Philippines fo...</td>\n",
              "      <td>asean philippin fin stop world leaders lead fa...</td>\n",
              "    </tr>\n",
              "    <tr>\n",
              "      <th>3</th>\n",
              "      <td>3</td>\n",
              "      <td>Donald J. Trump</td>\n",
              "      <td>After my tour of Asia, all Countries dealing w...</td>\n",
              "      <td>tour asia country deal trad know rul changed u...</td>\n",
              "    </tr>\n",
              "    <tr>\n",
              "      <th>4</th>\n",
              "      <td>4</td>\n",
              "      <td>Donald J. Trump</td>\n",
              "      <td>Great to see @RandPaul looking well and back o...</td>\n",
              "      <td>gre see look wel back sen floor help tax cut r...</td>\n",
              "    </tr>\n",
              "    <tr>\n",
              "      <th>5</th>\n",
              "      <td>5</td>\n",
              "      <td>Donald J. Trump</td>\n",
              "      <td>Excited to be heading home to see the House pa...</td>\n",
              "      <td>excit head hom see hous pass gre tax bil middl...</td>\n",
              "    </tr>\n",
              "  </tbody>\n",
              "</table>\n",
              "</div>"
            ],
            "text/plain": [
              "  id            Autor                                             Estado  \\\n",
              "1  1  Donald J. Trump  I will be making a major statement from the @W...   \n",
              "2  2  Donald J. Trump  Just arrived at #ASEAN50 in the Philippines fo...   \n",
              "3  3  Donald J. Trump  After my tour of Asia, all Countries dealing w...   \n",
              "4  4  Donald J. Trump  Great to see @RandPaul looking well and back o...   \n",
              "5  5  Donald J. Trump  Excited to be heading home to see the House pa...   \n",
              "\n",
              "                                        Estado_clean  \n",
              "1               mak maj stat upon return tim dat set  \n",
              "2  asean philippin fin stop world leaders lead fa...  \n",
              "3  tour asia country deal trad know rul changed u...  \n",
              "4  gre see look wel back sen floor help tax cut r...  \n",
              "5  excit head hom see hous pass gre tax bil middl...  "
            ]
          },
          "execution_count": 16,
          "metadata": {},
          "output_type": "execute_result"
        }
      ],
      "source": [
        "df.head()"
      ]
    },
    {
      "cell_type": "code",
      "execution_count": 17,
      "metadata": {
        "colab": {
          "base_uri": "https://localhost:8080/"
        },
        "id": "gr1UOxtxbyBl",
        "outputId": "54b17d5e-c501-46c3-fe8d-05684a204f6c"
      },
      "outputs": [
        {
          "data": {
            "text/plain": [
              "Autor\n",
              "Donald J. Trump    200\n",
              "Justin Trudeau     200\n",
              "Name: count, dtype: int64"
            ]
          },
          "execution_count": 17,
          "metadata": {},
          "output_type": "execute_result"
        }
      ],
      "source": [
        "df[\"Autor\"].value_counts()"
      ]
    },
    {
      "cell_type": "code",
      "execution_count": 18,
      "metadata": {
        "colab": {
          "base_uri": "https://localhost:8080/",
          "height": 206
        },
        "id": "BKXrXu2ld8AV",
        "outputId": "afc7f875-dc1f-453e-db56-90bff2120038"
      },
      "outputs": [
        {
          "data": {
            "text/html": [
              "<div>\n",
              "<style scoped>\n",
              "    .dataframe tbody tr th:only-of-type {\n",
              "        vertical-align: middle;\n",
              "    }\n",
              "\n",
              "    .dataframe tbody tr th {\n",
              "        vertical-align: top;\n",
              "    }\n",
              "\n",
              "    .dataframe thead th {\n",
              "        text-align: right;\n",
              "    }\n",
              "</style>\n",
              "<table border=\"1\" class=\"dataframe\">\n",
              "  <thead>\n",
              "    <tr style=\"text-align: right;\">\n",
              "      <th></th>\n",
              "      <th>Autor</th>\n",
              "      <th>Estado_clean</th>\n",
              "    </tr>\n",
              "  </thead>\n",
              "  <tbody>\n",
              "    <tr>\n",
              "      <th>1</th>\n",
              "      <td>Donald J. Trump</td>\n",
              "      <td>mak maj stat upon return tim dat set</td>\n",
              "    </tr>\n",
              "    <tr>\n",
              "      <th>2</th>\n",
              "      <td>Donald J. Trump</td>\n",
              "      <td>asean philippin fin stop world leaders lead fa...</td>\n",
              "    </tr>\n",
              "    <tr>\n",
              "      <th>3</th>\n",
              "      <td>Donald J. Trump</td>\n",
              "      <td>tour asia country deal trad know rul changed u...</td>\n",
              "    </tr>\n",
              "    <tr>\n",
              "      <th>4</th>\n",
              "      <td>Donald J. Trump</td>\n",
              "      <td>gre see look wel back sen floor help tax cut r...</td>\n",
              "    </tr>\n",
              "    <tr>\n",
              "      <th>5</th>\n",
              "      <td>Donald J. Trump</td>\n",
              "      <td>excit head hom see hous pass gre tax bil middl...</td>\n",
              "    </tr>\n",
              "  </tbody>\n",
              "</table>\n",
              "</div>"
            ],
            "text/plain": [
              "             Autor                                       Estado_clean\n",
              "1  Donald J. Trump               mak maj stat upon return tim dat set\n",
              "2  Donald J. Trump  asean philippin fin stop world leaders lead fa...\n",
              "3  Donald J. Trump  tour asia country deal trad know rul changed u...\n",
              "4  Donald J. Trump  gre see look wel back sen floor help tax cut r...\n",
              "5  Donald J. Trump  excit head hom see hous pass gre tax bil middl..."
            ]
          },
          "execution_count": 18,
          "metadata": {},
          "output_type": "execute_result"
        }
      ],
      "source": [
        "data = df.drop([\"id\",\"Estado\"] , axis = 1) # will drop column\n",
        "data.head()"
      ]
    },
    {
      "cell_type": "code",
      "execution_count": 19,
      "metadata": {
        "id": "hT4UYzAweNtJ"
      },
      "outputs": [],
      "source": [
        "x = df[\"Estado_clean\"]\n",
        "y = df[\"Autor\"]"
      ]
    },
    {
      "cell_type": "code",
      "execution_count": 20,
      "metadata": {
        "id": "VEiqVTP-eUnG"
      },
      "outputs": [],
      "source": [
        "x_l = list(x)\n",
        "y_l = list(y)"
      ]
    },
    {
      "cell_type": "code",
      "execution_count": 21,
      "metadata": {
        "id": "Ro82tSV1earI"
      },
      "outputs": [],
      "source": [
        "x_train ,x_test ,y_train ,y_test = train_test_split(x_l ,y_l ,test_size = 0.2, random_state=50)"
      ]
    },
    {
      "cell_type": "code",
      "execution_count": 22,
      "metadata": {
        "colab": {
          "base_uri": "https://localhost:8080/"
        },
        "id": "h6X-aW5zeecd",
        "outputId": "b11b6291-b3fd-426f-ab0a-6c0601353d29"
      },
      "outputs": [
        {
          "name": "stdout",
          "output_type": "stream",
          "text": [
            "400\n",
            "320\n"
          ]
        }
      ],
      "source": [
        "print(len(x_l))\n",
        "print(len(x_train))"
      ]
    },
    {
      "cell_type": "code",
      "execution_count": 23,
      "metadata": {
        "id": "TJ_nyV_Ws2z-"
      },
      "outputs": [],
      "source": [
        "vectorize = CountVectorizer()\n",
        "x_train1 = vectorize.fit_transform(x_train)\n",
        "x_test1 =  vectorize.transform(x_test)"
      ]
    },
    {
      "cell_type": "code",
      "execution_count": 24,
      "metadata": {
        "id": "cZZ3WZPbs-n_"
      },
      "outputs": [],
      "source": [
        "mnb = MultinomialNB()\n",
        "mnb.fit(x_train1 ,y_train)\n",
        "y_pred = mnb.predict(x_test1)"
      ]
    },
    {
      "cell_type": "code",
      "execution_count": 25,
      "metadata": {
        "colab": {
          "base_uri": "https://localhost:8080/"
        },
        "id": "F_y1OKyAttpd",
        "outputId": "4489a2fd-72ea-479e-8503-0d4e1b7ead6e"
      },
      "outputs": [
        {
          "data": {
            "text/plain": [
              "0.9"
            ]
          },
          "execution_count": 25,
          "metadata": {},
          "output_type": "execute_result"
        }
      ],
      "source": [
        "metrics.accuracy_score(y_pred,y_test)"
      ]
    },
    {
      "cell_type": "code",
      "execution_count": 26,
      "metadata": {
        "id": "nsClhyfltnU-"
      },
      "outputs": [],
      "source": [
        "random_forest = RandomForestClassifier()\n",
        "\n",
        "# Fit the model with GridSearchCV\n",
        "random_forest.fit(x_train1, y_train)\n",
        "y_pred = random_forest.predict(x_test1)"
      ]
    },
    {
      "cell_type": "code",
      "execution_count": 27,
      "metadata": {
        "colab": {
          "base_uri": "https://localhost:8080/"
        },
        "id": "K58OYJc4tyT8",
        "outputId": "43285a04-3344-4b0e-bb92-9feb85815d65"
      },
      "outputs": [
        {
          "data": {
            "text/plain": [
              "0.9375"
            ]
          },
          "execution_count": 27,
          "metadata": {},
          "output_type": "execute_result"
        }
      ],
      "source": [
        "accuracy_score(y_test, y_pred)"
      ]
    },
    {
      "cell_type": "code",
      "execution_count": 28,
      "metadata": {
        "colab": {
          "base_uri": "https://localhost:8080/",
          "height": 87
        },
        "id": "3P6yXesCuA9d",
        "outputId": "b6fe15d5-86ca-438c-8975-6ccafa836473"
      },
      "outputs": [
        {
          "data": {
            "text/plain": [
              "'john meet director head rusk rom crim syndicate pres ros demand saf pass casablanca john member direct reluct agrees also rev john wicks bir nam jardan jovonovich meanwhile high tabl adjud meet new york contin man winston bowery king sev day resign posit consequ help john adjud enl zero japanes assassin ord stab direct hand pen aid john casablanca john meet sofia form friend man morocc continental'"
            ]
          },
          "execution_count": 28,
          "metadata": {},
          "output_type": "execute_result"
        }
      ],
      "source": [
        "#hello\n",
        "nuevos_datos = [\"John meets with The Director, the head of the Ruska Roma crime syndicate, to whom he presents a rosary and demands safe passage to Casablanca. As John was once a member, the Director reluctantly agrees. It's also revealed that John Wick's birth name was Jardani Jovonovich. Meanwhile, a High Table Adjudicator meets with New York Continental manager Winston and the Bowery King, notifying them that they both have seven days to resign from their positions as a consequence of helping John.[a] The Adjudicator enlists Zero, a Japanese assassin, and orders him to stab the Director through both of her hands as penance for aiding John. In Casablanca, John meets Sofia, his former friend and manager of the Moroccan Continental.\"]\n",
        "nuevos_datos[0] = preprocessing(nuevos_datos[0])\n",
        "nuevos_datos[0]"
      ]
    },
    {
      "cell_type": "code",
      "execution_count": 29,
      "metadata": {
        "id": "NlHF3eqXuPww"
      },
      "outputs": [],
      "source": [
        "X_nuevos = vectorize.transform(nuevos_datos)"
      ]
    },
    {
      "cell_type": "code",
      "execution_count": 30,
      "metadata": {
        "id": "rKXikyf9uQoS"
      },
      "outputs": [],
      "source": [
        "# Para el modelo Multinomial Naive Bayes\n",
        "predicciones_nb_nuevos = mnb.predict(X_nuevos)\n",
        "\n",
        "# Para el modelo Random Forest\n",
        "predicciones_rf_nuevos = random_forest.predict(X_nuevos)"
      ]
    },
    {
      "cell_type": "code",
      "execution_count": 31,
      "metadata": {
        "colab": {
          "base_uri": "https://localhost:8080/"
        },
        "id": "PdzMxB8luUZY",
        "outputId": "6bded7ae-0887-4911-93b9-4ff3866d4f70"
      },
      "outputs": [
        {
          "name": "stdout",
          "output_type": "stream",
          "text": [
            "Nueva entrada 1: Donald J. Trump\n",
            "Nueva entrada 1: Donald J. Trump\n"
          ]
        }
      ],
      "source": [
        "# Para el modelo Multinomial Naive Bayes\n",
        "for i, prediccion in enumerate(predicciones_nb_nuevos):\n",
        "    print(f\"Nueva entrada {i + 1}: {prediccion}\")\n",
        "\n",
        "# Para el modelo Random Forest\n",
        "for i, prediccion in enumerate(predicciones_rf_nuevos):\n",
        "    print(f\"Nueva entrada {i + 1}: {prediccion}\")"
      ]
    },
    {
      "cell_type": "code",
      "execution_count": 32,
      "metadata": {
        "colab": {
          "base_uri": "https://localhost:8080/"
        },
        "id": "OFZNch167P0U",
        "outputId": "6453d7c7-cc17-4464-d975-24c1a2237e5b"
      },
      "outputs": [
        {
          "data": {
            "text/plain": [
              "['preprocesamiento.pkl']"
            ]
          },
          "execution_count": 32,
          "metadata": {},
          "output_type": "execute_result"
        }
      ],
      "source": [
        "import joblib\n",
        "joblib.dump(random_forest, 'random_forest.pkl')\n",
        "joblib.dump(vectorize, 'preprocesamiento.pkl')\n"
      ]
    },
    {
      "cell_type": "code",
      "execution_count": 33,
      "metadata": {
        "colab": {
          "base_uri": "https://localhost:8080/"
        },
        "id": "Ps2FWJ2s7sjh",
        "outputId": "51262c2e-17b8-4fc5-d5c5-4b3fbd68773c"
      },
      "outputs": [
        {
          "data": {
            "text/plain": [
              "array(['Donald J. Trump'], dtype='<U15')"
            ]
          },
          "execution_count": 33,
          "metadata": {},
          "output_type": "execute_result"
        }
      ],
      "source": [
        "modelo_cargado = joblib.load('random_forest.pkl')\n",
        "vectorizer_cargado = joblib.load('preprocesamiento.pkl')\n",
        "\n",
        "modelo_cargado.predict(X_nuevos)"
      ]
    },
    {
      "cell_type": "code",
      "execution_count": 67,
      "metadata": {
        "colab": {
          "base_uri": "https://localhost:8080/"
        },
        "id": "U-qpPB1B73N0",
        "outputId": "e08b2888-051e-46b2-85b8-61077e87e073"
      },
      "outputs": [
        {
          "data": {
            "text/plain": [
              "array(['Donald J. Trump'], dtype='<U15')"
            ]
          },
          "execution_count": 67,
          "metadata": {},
          "output_type": "execute_result"
        }
      ],
      "source": [
        "## Función para el procesamiento de datos\n",
        "stopword = set(stopwords.words('english'))\n",
        "stemmer = LancasterStemmer()\n",
        "def preprocessing(text):\n",
        "    # print(text)\n",
        "    try:\n",
        "      # Convert text to lowercase\n",
        "      text = text.lower()\n",
        "      text = re.sub('-',' ',text)   # replace `word-word` as `word word`\n",
        "      text = re.sub(f'[{string.digits}]',' ',text)  # remove digits\n",
        "      text = ' '.join([stemmer.stem(word) for word in text.split() if word not in stopword])  # remove stopwords and stem other words\n",
        "      text =  re.sub(r'@\\S+', '',text)                     # remove twitter handles\n",
        "      text =  re.sub(r'http\\S+', '',text)                  # remove urls\n",
        "      text =  re.sub(r'pic.\\S+', '',text)\n",
        "      text =  re.sub(r\"[^a-zA-Z+']\", ' ',text)             # only keeps characters\n",
        "      text = re.sub(r'\\s+[a-zA-Z]\\s+', ' ', text+' ')      # keep words with length>1 only\n",
        "      text = ''.join([i for i in text if i not in string.punctuation])\n",
        "      words = nltk.tokenize.word_tokenize(text,language=\"english\", preserve_line=True)\n",
        "      text = \" \".join([i for i in words if i not in stopword and len(i)>2])\n",
        "      text= re.sub(\"\\s[\\s]+\", \" \",text).strip()            # remove repeated/leading/trailing spaces\n",
        "    except:\n",
        "      print('Error:')\n",
        "      print(text)\n",
        "\n",
        "    return re.sub(f'[{re.escape(string.punctuation)}]','',text) # remove punctuations\n",
        "nuevos_datos = [\"John meets with The Director, the head of the Ruska Roma crime syndicate, to whom he presents a rosary and demands safe passage to Casablanca. As John was once a member, the Director reluctantly agrees. It's also revealed that John Wick's birth name was Jardani Jovonovich. Meanwhile, a High Table Adjudicator meets with New York Continental manager Winston and the Bowery King, notifying them that they both have seven days to resign from their positions as a consequence of helping John.[a] The Adjudicator enlists Zero, a Japanese assassin, and orders him to stab the Director through both of her hands as penance for aiding John. In Casablanca, John meets Sofia, his former friend and manager of the Moroccan Continental.\"]\n",
        "nuevos_datos[0] = preprocessing(nuevos_datos[0])\n",
        "nuevos_datos[0]\n",
        "X_nuevos = vectorizer_cargado.transform(nuevos_datos)\n",
        "modelo_cargado.predict(X_nuevos)"
      ]
    },
    {
      "cell_type": "code",
      "execution_count": 69,
      "metadata": {
        "colab": {
          "base_uri": "https://localhost:8080/"
        },
        "id": "7wrIF9NvBE3M",
        "outputId": "11dbc92b-7553-44d5-949a-045bb6bd7bcd"
      },
      "outputs": [
        {
          "name": "stdout",
          "output_type": "stream",
          "text": [
            "Name: joblib\n",
            "Version: 1.3.2\n",
            "Summary: Lightweight pipelining with Python functions\n",
            "Home-page: \n",
            "Author: \n",
            "Author-email: Gael Varoquaux <gael.varoquaux@normalesup.org>\n",
            "License: BSD 3-Clause\n",
            "Location: /usr/local/lib/python3.10/dist-packages\n",
            "Requires: \n",
            "Required-by: imbalanced-learn, librosa, mlxtend, music21, nltk, scikit-learn\n"
          ]
        }
      ],
      "source": [
        "!pip show joblib"
      ]
    }
  ],
  "metadata": {
    "colab": {
      "provenance": []
    },
    "kernelspec": {
      "display_name": "Python 3",
      "name": "python3"
    },
    "language_info": {
      "codemirror_mode": {
        "name": "ipython",
        "version": 3
      },
      "file_extension": ".py",
      "mimetype": "text/x-python",
      "name": "python",
      "nbconvert_exporter": "python",
      "pygments_lexer": "ipython3",
      "version": "3.9.13"
    }
  },
  "nbformat": 4,
  "nbformat_minor": 0
}
